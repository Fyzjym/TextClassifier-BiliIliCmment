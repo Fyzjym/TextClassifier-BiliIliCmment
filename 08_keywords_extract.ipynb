{
 "cells": [
  {
   "cell_type": "code",
   "execution_count": 1,
   "metadata": {},
   "outputs": [],
   "source": [
    "from gensim import corpora, models, similarities\n",
    "import gensim\n",
    "import pandas as pd\n",
    "import pymysql"
   ]
  },
  {
   "cell_type": "code",
   "execution_count": 2,
   "metadata": {},
   "outputs": [],
   "source": [
    "stopwords=pd.read_csv(\"./rowdata//stopwords.txt\",index_col=False,quoting=3,sep=\"\\t\",names=['stopword'], encoding='utf-8')\n",
    "stopwords=stopwords['stopword'].values"
   ]
  },
  {
   "cell_type": "code",
   "execution_count": 3,
   "metadata": {},
   "outputs": [],
   "source": [
    "connect = pymysql.connect(host = \"localhost\", port = 3306, user = \"root\", password = \"123456\", database = 'processSentiment', charset='utf8')\n",
    "sql = 'select * from BiliComment_NoRepeat'\n",
    "df_senti=pd.read_sql(sql, connect)"
   ]
  },
  {
   "cell_type": "code",
   "execution_count": 4,
   "metadata": {},
   "outputs": [
    {
     "data": {
      "text/html": [
       "<div>\n",
       "<style scoped>\n",
       "    .dataframe tbody tr th:only-of-type {\n",
       "        vertical-align: middle;\n",
       "    }\n",
       "\n",
       "    .dataframe tbody tr th {\n",
       "        vertical-align: top;\n",
       "    }\n",
       "\n",
       "    .dataframe thead th {\n",
       "        text-align: right;\n",
       "    }\n",
       "</style>\n",
       "<table border=\"1\" class=\"dataframe\">\n",
       "  <thead>\n",
       "    <tr style=\"text-align: right;\">\n",
       "      <th></th>\n",
       "      <th>keyOrder</th>\n",
       "      <th>uname</th>\n",
       "      <th>mid</th>\n",
       "      <th>ctime</th>\n",
       "      <th>message</th>\n",
       "      <th>text_confidence</th>\n",
       "      <th>text_pos_score</th>\n",
       "      <th>text_neg_score</th>\n",
       "      <th>likehah</th>\n",
       "      <th>rcount</th>\n",
       "      <th>sex</th>\n",
       "      <th>current_level</th>\n",
       "      <th>sign</th>\n",
       "      <th>plat</th>\n",
       "    </tr>\n",
       "  </thead>\n",
       "  <tbody>\n",
       "    <tr>\n",
       "      <th>0</th>\n",
       "      <td>1</td>\n",
       "      <td>Bili_12156495</td>\n",
       "      <td>12156495</td>\n",
       "      <td>2019-08-03 16:38:26</td>\n",
       "      <td>嗯？沙发？。</td>\n",
       "      <td>0.906338</td>\n",
       "      <td>0.042148</td>\n",
       "      <td>0.957852</td>\n",
       "      <td>0</td>\n",
       "      <td>0</td>\n",
       "      <td>男</td>\n",
       "      <td>5</td>\n",
       "      <td></td>\n",
       "      <td>3</td>\n",
       "    </tr>\n",
       "    <tr>\n",
       "      <th>1</th>\n",
       "      <td>2</td>\n",
       "      <td>丿红红火火恍恍惚惚丶丶</td>\n",
       "      <td>42777650</td>\n",
       "      <td>2019-08-03 16:38:26</td>\n",
       "      <td>好早。</td>\n",
       "      <td>0.995621</td>\n",
       "      <td>0.998029</td>\n",
       "      <td>0.001971</td>\n",
       "      <td>0</td>\n",
       "      <td>0</td>\n",
       "      <td>保密</td>\n",
       "      <td>3</td>\n",
       "      <td></td>\n",
       "      <td>2</td>\n",
       "    </tr>\n",
       "    <tr>\n",
       "      <th>2</th>\n",
       "      <td>3</td>\n",
       "      <td>舊夢護城</td>\n",
       "      <td>389411339</td>\n",
       "      <td>2019-08-03 16:38:26</td>\n",
       "      <td>前排。</td>\n",
       "      <td>0.919610</td>\n",
       "      <td>0.963824</td>\n",
       "      <td>0.036176</td>\n",
       "      <td>0</td>\n",
       "      <td>0</td>\n",
       "      <td>男</td>\n",
       "      <td>2</td>\n",
       "      <td></td>\n",
       "      <td>2</td>\n",
       "    </tr>\n",
       "    <tr>\n",
       "      <th>3</th>\n",
       "      <td>4</td>\n",
       "      <td>DYJ0613</td>\n",
       "      <td>8923364</td>\n",
       "      <td>2019-08-03 16:38:27</td>\n",
       "      <td>发现错别字！。</td>\n",
       "      <td>0.263086</td>\n",
       "      <td>0.331611</td>\n",
       "      <td>0.668389</td>\n",
       "      <td>0</td>\n",
       "      <td>0</td>\n",
       "      <td>女</td>\n",
       "      <td>5</td>\n",
       "      <td>这是一个很认真的简介</td>\n",
       "      <td>2</td>\n",
       "    </tr>\n",
       "    <tr>\n",
       "      <th>4</th>\n",
       "      <td>5</td>\n",
       "      <td>oldyellow君</td>\n",
       "      <td>205191022</td>\n",
       "      <td>2019-08-03 16:38:27</td>\n",
       "      <td>你的名字归我啦[害羞]。</td>\n",
       "      <td>0.999312</td>\n",
       "      <td>0.999690</td>\n",
       "      <td>0.000309</td>\n",
       "      <td>2</td>\n",
       "      <td>0</td>\n",
       "      <td>保密</td>\n",
       "      <td>5</td>\n",
       "      <td>关注过一个亿女装\\n就是永不女装的意思哈哈哈哈哈哈\\n</td>\n",
       "      <td>2</td>\n",
       "    </tr>\n",
       "  </tbody>\n",
       "</table>\n",
       "</div>"
      ],
      "text/plain": [
       "   keyOrder          uname        mid                ctime       message  \\\n",
       "0         1  Bili_12156495   12156495  2019-08-03 16:38:26        嗯？沙发？。   \n",
       "1         2    丿红红火火恍恍惚惚丶丶   42777650  2019-08-03 16:38:26           好早。   \n",
       "2         3           舊夢護城  389411339  2019-08-03 16:38:26           前排。   \n",
       "3         4        DYJ0613    8923364  2019-08-03 16:38:27       发现错别字！。   \n",
       "4         5     oldyellow君  205191022  2019-08-03 16:38:27  你的名字归我啦[害羞]。   \n",
       "\n",
       "   text_confidence  text_pos_score  text_neg_score  likehah  rcount sex  \\\n",
       "0         0.906338        0.042148        0.957852        0       0   男   \n",
       "1         0.995621        0.998029        0.001971        0       0  保密   \n",
       "2         0.919610        0.963824        0.036176        0       0   男   \n",
       "3         0.263086        0.331611        0.668389        0       0   女   \n",
       "4         0.999312        0.999690        0.000309        2       0  保密   \n",
       "\n",
       "   current_level                         sign  plat  \n",
       "0              5                                  3  \n",
       "1              3                                  2  \n",
       "2              2                                  2  \n",
       "3              5                   这是一个很认真的简介     2  \n",
       "4              5  关注过一个亿女装\\n就是永不女装的意思哈哈哈哈哈哈\\n     2  "
      ]
     },
     "execution_count": 4,
     "metadata": {},
     "output_type": "execute_result"
    }
   ],
   "source": [
    "df_senti.head()"
   ]
  },
  {
   "cell_type": "code",
   "execution_count": 5,
   "metadata": {},
   "outputs": [],
   "source": [
    "df = pd.DataFrame(df_senti['message'])"
   ]
  },
  {
   "cell_type": "code",
   "execution_count": 6,
   "metadata": {},
   "outputs": [
    {
     "data": {
      "text/html": [
       "<div>\n",
       "<style scoped>\n",
       "    .dataframe tbody tr th:only-of-type {\n",
       "        vertical-align: middle;\n",
       "    }\n",
       "\n",
       "    .dataframe tbody tr th {\n",
       "        vertical-align: top;\n",
       "    }\n",
       "\n",
       "    .dataframe thead th {\n",
       "        text-align: right;\n",
       "    }\n",
       "</style>\n",
       "<table border=\"1\" class=\"dataframe\">\n",
       "  <thead>\n",
       "    <tr style=\"text-align: right;\">\n",
       "      <th></th>\n",
       "      <th>message</th>\n",
       "    </tr>\n",
       "  </thead>\n",
       "  <tbody>\n",
       "    <tr>\n",
       "      <th>0</th>\n",
       "      <td>嗯？沙发？。</td>\n",
       "    </tr>\n",
       "    <tr>\n",
       "      <th>1</th>\n",
       "      <td>好早。</td>\n",
       "    </tr>\n",
       "    <tr>\n",
       "      <th>2</th>\n",
       "      <td>前排。</td>\n",
       "    </tr>\n",
       "    <tr>\n",
       "      <th>3</th>\n",
       "      <td>发现错别字！。</td>\n",
       "    </tr>\n",
       "    <tr>\n",
       "      <th>4</th>\n",
       "      <td>你的名字归我啦[害羞]。</td>\n",
       "    </tr>\n",
       "  </tbody>\n",
       "</table>\n",
       "</div>"
      ],
      "text/plain": [
       "        message\n",
       "0        嗯？沙发？。\n",
       "1           好早。\n",
       "2           前排。\n",
       "3       发现错别字！。\n",
       "4  你的名字归我啦[害羞]。"
      ]
     },
     "execution_count": 6,
     "metadata": {},
     "output_type": "execute_result"
    }
   ],
   "source": [
    "df.head()"
   ]
  },
  {
   "cell_type": "code",
   "execution_count": 7,
   "metadata": {},
   "outputs": [
    {
     "name": "stderr",
     "output_type": "stream",
     "text": [
      "Building prefix dict from the default dictionary ...\n",
      "Loading model from cache /var/folders/tb/k5xqd901235gk634ymvtk5140000gn/T/jieba.cache\n",
      "Loading model cost 0.890 seconds.\n",
      "Prefix dict has been built successfully.\n"
     ]
    }
   ],
   "source": [
    "import jieba\n",
    "import pandas as pd\n",
    "\n",
    "\n",
    "df = df.dropna()\n",
    "lines=df.message.values.tolist()\n",
    "\n",
    "sentences=[]\n",
    "\n",
    "for line in lines:\n",
    "    littlesentence = []  ## 课程代码部分有问题，下面作修改\n",
    "    try:\n",
    "        segs=jieba.lcut(line)\n",
    "        segs = filter(lambda x:len(x)>1, segs)# 过滤出 segs 中 长度大于1的字符串\n",
    "        segs = filter(lambda x:x not in stopwords, segs)# 过滤停用词\n",
    "        for seg in segs:\n",
    "            littlesentence.append(seg)\n",
    "        sentences.append(littlesentence)\n",
    "    except Exception:\n",
    "        continue"
   ]
  },
  {
   "cell_type": "code",
   "execution_count": 8,
   "metadata": {},
   "outputs": [
    {
     "name": "stdout",
     "output_type": "stream",
     "text": [
      "['沙发']\n",
      "[]\n",
      "['前排']\n",
      "['发现', '错别字']\n",
      "['名字', '害羞']\n"
     ]
    }
   ],
   "source": [
    "for i in sentences[:5]:\n",
    "    print(i)"
   ]
  },
  {
   "cell_type": "markdown",
   "metadata": {},
   "source": [
    "## 词袋模型"
   ]
  },
  {
   "cell_type": "code",
   "execution_count": 9,
   "metadata": {},
   "outputs": [],
   "source": [
    "dictionary = corpora.Dictionary(sentences)\n",
    "corpus = [dictionary.doc2bow(sentence) for sentence in sentences]"
   ]
  },
  {
   "cell_type": "markdown",
   "metadata": {},
   "source": [
    "## LDA建模\n"
   ]
  },
  {
   "cell_type": "code",
   "execution_count": 10,
   "metadata": {},
   "outputs": [],
   "source": [
    "lda = gensim.models.ldamodel.LdaModel(corpus=corpus, id2word=dictionary, num_topics=20)"
   ]
  },
  {
   "cell_type": "markdown",
   "metadata": {},
   "source": [
    "## 我们查一下第3号分类，其中最常出现的单词是："
   ]
  },
  {
   "cell_type": "code",
   "execution_count": 11,
   "metadata": {},
   "outputs": [
    {
     "name": "stdout",
     "output_type": "stream",
     "text": [
      "0.661*\"敬汉卿\" + 0.039*\"热度\" + 0.023*\"律师\" + 0.022*\"证据\" + 0.022*\"捂脸\" + 0.016*\"nb\" + 0.016*\"2018\" + 0.014*\"撤销\" + 0.011*\"一句\" + 0.007*\"提交\"\n"
     ]
    }
   ],
   "source": [
    "print(lda.print_topic(3, topn=10))"
   ]
  },
  {
   "cell_type": "markdown",
   "metadata": {},
   "source": [
    "## 我们把所有的主题打印出来看看"
   ]
  },
  {
   "cell_type": "code",
   "execution_count": 12,
   "metadata": {},
   "outputs": [
    {
     "name": "stdout",
     "output_type": "stream",
     "text": [
      "0.371*\"公司\" + 0.061*\"投币\" + 0.054*\"恶心\" + 0.046*\"吃瓜\" + 0.044*\"字体\" + 0.035*\"一波\" + 0.034*\"啊啊啊\" + 0.032*\"有人\"\n",
      "0.745*\"支持\" + 0.162*\"维权\" + 0.010*\"版权\" + 0.009*\"增加\" + 0.007*\"顶一下\" + 0.004*\"拥有\" + 0.003*\"打击\" + 0.003*\"奇怪\"\n",
      "0.906*\"加油\" + 0.007*\"2019\" + 0.007*\"举报\" + 0.005*\"有限公司\" + 0.005*\"我要\" + 0.005*\"法院\" + 0.004*\"团团\" + 0.004*\"知识产权\"\n",
      "0.661*\"敬汉卿\" + 0.039*\"热度\" + 0.023*\"律师\" + 0.022*\"证据\" + 0.022*\"捂脸\" + 0.016*\"nb\" + 0.016*\"2018\" + 0.014*\"撤销\"\n",
      "0.376*\"视频\" + 0.176*\"粉丝\" + 0.042*\"流氓\" + 0.032*\"平台\" + 0.022*\"公司\" + 0.021*\"知名\" + 0.017*\"支付宝\" + 0.016*\"UP\"\n",
      "0.280*\"真的\" + 0.280*\"出名\" + 0.053*\"好像\" + 0.044*\"这家\" + 0.030*\"Up\" + 0.029*\"记得\" + 0.020*\"改名字\" + 0.014*\"想不到\"\n",
      "0.164*\"打气\" + 0.091*\"生气\" + 0.081*\"哈哈哈哈\" + 0.081*\"维护\" + 0.075*\"jhq\" + 0.060*\"权益\" + 0.050*\"共青团中央\" + 0.030*\"音娘\"\n",
      "0.241*\"doge\" + 0.154*\"事情\" + 0.078*\"冲冲\" + 0.068*\"第一次\" + 0.058*\"2233\" + 0.056*\"第一\" + 0.049*\"这是\" + 0.045*\"永远\"\n",
      "0.284*\"播放\" + 0.159*\"点赞\" + 0.081*\"汉卿\" + 0.050*\"兄弟\" + 0.040*\"一杯\" + 0.039*\"收藏\" + 0.020*\"发生\" + 0.019*\"吃惊\"\n",
      "0.183*\"希望\" + 0.165*\"关注\" + 0.085*\"你好\" + 0.060*\"保护\" + 0.055*\"改名\" + 0.039*\"合法权益\" + 0.029*\"肯定\" + 0.029*\"惊讶\"\n",
      "0.394*\"维权\" + 0.201*\"合法\" + 0.108*\"成功\" + 0.036*\"事件\" + 0.024*\"估计\" + 0.018*\"赔偿\" + 0.013*\"打官司\" + 0.012*\"响指\"\n",
      "0.161*\"真名\" + 0.135*\"三连\" + 0.110*\"没想到\" + 0.064*\"起诉\" + 0.062*\"万万\" + 0.044*\"违法\" + 0.034*\"无效\" + 0.031*\"魔法\"\n",
      "0.202*\"微笑\" + 0.145*\"硬币\" + 0.090*\"网友\" + 0.085*\"电视\" + 0.042*\"正义\" + 0.034*\"东西\" + 0.029*\"好好\" + 0.023*\"害羞\"\n",
      "0.301*\"名字\" + 0.117*\"哈哈哈\" + 0.116*\"注册\" + 0.069*\"赶紧\" + 0.056*\"喜欢\" + 0.054*\"系列\" + 0.048*\"侵权\" + 0.036*\"发现\"\n",
      "0.143*\"姓名权\" + 0.069*\"侵犯\" + 0.066*\"call\" + 0.064*\"解决\" + 0.041*\"网络\" + 0.041*\"建议\" + 0.039*\"几个\" + 0.039*\"恐怖\"\n",
      "0.260*\"法律\" + 0.106*\"注册商标\" + 0.088*\"画风\" + 0.088*\"突变\" + 0.048*\"社会\" + 0.028*\"敲诈\" + 0.025*\"尴尬\" + 0.024*\"官司\"\n",
      "0.233*\"商标\" + 0.151*\"抢注\" + 0.057*\"注册\" + 0.042*\"恶意\" + 0.040*\"姓名\" + 0.038*\"申请\" + 0.032*\"节目\" + 0.025*\"侵权\"\n",
      "0.331*\"滑稽\" + 0.086*\"大哭\" + 0.068*\"想到\" + 0.065*\"有名\" + 0.046*\"告诉\" + 0.035*\"官方\" + 0.020*\"委屈\" + 0.012*\"老爹\"\n",
      "0.186*\"死神\" + 0.142*\"之子\" + 0.058*\"感觉\" + 0.052*\"评个\" + 0.040*\"惊喜\" + 0.040*\"垃圾\" + 0.040*\"弹幕\" + 0.036*\"大笑\"\n",
      "0.334*\"评论\" + 0.107*\"证明\" + 0.060*\"UP\" + 0.056*\"出名\" + 0.036*\"我来\" + 0.030*\"关注\" + 0.026*\"好多\" + 0.019*\"知名度\"\n"
     ]
    }
   ],
   "source": [
    "for topic in lda.print_topics(num_topics=20, num_words=8):\n",
    "    print(topic[1])"
   ]
  },
  {
   "cell_type": "code",
   "execution_count": null,
   "metadata": {},
   "outputs": [],
   "source": []
  }
 ],
 "metadata": {
  "kernelspec": {
   "display_name": "Python 3",
   "language": "python",
   "name": "python3"
  },
  "language_info": {
   "codemirror_mode": {
    "name": "ipython",
    "version": 3
   },
   "file_extension": ".py",
   "mimetype": "text/x-python",
   "name": "python",
   "nbconvert_exporter": "python",
   "pygments_lexer": "ipython3",
   "version": "3.6.4"
  }
 },
 "nbformat": 4,
 "nbformat_minor": 2
}
