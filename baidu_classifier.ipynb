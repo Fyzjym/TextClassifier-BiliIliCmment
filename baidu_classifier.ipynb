{
 "cells": [
  {
   "cell_type": "code",
   "execution_count": 1,
   "metadata": {},
   "outputs": [
    {
     "name": "stdout",
     "output_type": "stream",
     "text": [
      "{\"refresh_token\":\"25.6a5bf08caf7f22586fcd6eeac3837316.315360000.1900054247.282335-18942611\",\"expires_in\":2592000,\"session_key\":\"9mzdCyFxv5S73OygfF8Fk45SLGU1u4dc0Iq7Mlghno9Fut5qfAdI6jjWzP1hQBK5p5WrR9QwSyYEnXuFaijx9PgQUn6Edw==\",\"access_token\":\"24.091d3ba4deedf7f199904817fb638abe.2592000.1587286247.282335-18942611\",\"scope\":\"public nlp_simnet nlp_wordemb nlp_comtag nlp_dnnlm_cn brain_nlp_lexer brain_all_scope brain_nlp_comment_tag brain_nlp_dnnlm_cn brain_nlp_word_emb_vec brain_nlp_word_emb_sim brain_nlp_sentiment_classify brain_nlp_simnet brain_nlp_depparser brain_nlp_wordembedding brain_nlp_dnnlm_cn_legacy brain_nlp_simnet_legacy brain_nlp_comment_tag_legacy brain_nlp_lexer_custom brain_nlp_keyword brain_nlp_topic brain_nlp_ecnet brain_nlp_emotion brain_nlp_comment_tag_custom brain_nlp_news_summary brain_nlp_sentiment_classify_custom brain_nlp_address wise_adapt lebo_resource_base lightservice_public hetu_basic lightcms_map_poi kaidian_kaidian ApsMisTest_Test\\u6743\\u9650 vis-classify_flower lpq_\\u5f00\\u653e cop_helloScope ApsMis_fangdi_permission smartapp_snsapi_base iop_autocar oauth_tp_app smartapp_smart_game_openapi oauth_sessionkey smartapp_swanid_verify smartapp_opensource_openapi smartapp_opensource_recapi qatest_scope1 fake_face_detect_\\u5f00\\u653eScope vis-ocr_\\u865a\\u62df\\u4eba\\u7269\\u52a9\\u7406 idl-video_\\u865a\\u62df\\u4eba\\u7269\\u52a9\\u7406\",\"session_secret\":\"22dde033280d0c67af14a1d9d143f6a7\"}\n",
      "\n"
     ]
    }
   ],
   "source": [
    "import requests\n",
    "\n",
    "ak = 'FknGql9MZgddnZnSeeI7RQ7R'\n",
    "sk = 'ZavTBlEt8kXcsUguUXMl6IHW0SkGi3pw'\n",
    "\n",
    "host = 'https://aip.baidubce.com/oauth/2.0/token?grant_type=client_credentials&client_id={}&client_secret={}'.format(ak,sk)\n",
    "\n",
    "res = requests.post(host)\n",
    "print(res.text)"
   ]
  },
  {
   "cell_type": "code",
   "execution_count": 3,
   "metadata": {},
   "outputs": [
    {
     "name": "stderr",
     "output_type": "stream",
     "text": [
      "Building prefix dict from the default dictionary ...\n",
      "Loading model from cache /var/folders/tb/k5xqd901235gk634ymvtk5140000gn/T/jieba.cache\n",
      "Loading model cost 0.898 seconds.\n",
      "Prefix dict has been built successfully.\n"
     ]
    },
    {
     "data": {
      "text/plain": [
       "'笨蛋 讨厌 太过分'"
      ]
     },
     "execution_count": 3,
     "metadata": {},
     "output_type": "execute_result"
    }
   ],
   "source": [
    "import jieba\n",
    "import pandas as pd\n",
    "\n",
    "stopwords = pd.read_csv('./rowdata/stopwords.txt', \n",
    "                        index_col=False, quoting=3, sep='\\t', names=['stopword'], encoding='utf-8')\n",
    "stopwords = stopwords['stopword'].values\n",
    "\n",
    "def comPreProcess(text):\n",
    "    sentence = []\n",
    "    segs = jieba.lcut(text)\n",
    "    segs = filter(lambda x: len(x)>1, segs)\n",
    "    segs = filter(lambda x: x not in stopwords, segs)\n",
    "    sentence.append(' '.join(segs))\n",
    "    return sentence[0]\n",
    "\n",
    "comPreProcess(\"你是个大笨蛋，我讨厌你，你可太过分了啊\")"
   ]
  },
  {
   "cell_type": "code",
   "execution_count": 6,
   "metadata": {},
   "outputs": [
    {
     "name": "stdout",
     "output_type": "stream",
     "text": [
      "{\"log_id\": 5315533701435321748, \"text\": \"这个手机不好用,真的不好\", \"items\": [{\"positive_prob\": 0.0006915, \"confidence\": 0.998463, \"negative_prob\": 0.999309, \"sentiment\": 0}]}\n"
     ]
    }
   ],
   "source": [
    "import json\n",
    "\n",
    "token = '24.8d9184644bfb4116e1504b01b920267f.2592000.1587266423.282335-18942611'\n",
    "\n",
    "url = 'https://aip.baidubce.com/rpc/2.0/nlp/v1/sentiment_classify?charset=UTF-8&access_token={}'.format(token)\n",
    "\n",
    "data = {\n",
    "    'text':'这个手机不好用,真的不好'\n",
    "}\n",
    "\n",
    "data = json.dumps(data)\n",
    "\n",
    "res = requests.post(url,data=data)\n",
    "print(res.text)"
   ]
  },
  {
   "cell_type": "code",
   "execution_count": 16,
   "metadata": {},
   "outputs": [
    {
     "name": "stdout",
     "output_type": "stream",
     "text": [
      "{\"log_id\": 2605093257041762964, \"text\": \"央视 哈哈哈 哈哈哈\", \"items\": [{\"positive_prob\": 0.995496, \"confidence\": 0.989991, \"negative_prob\": 0.00450413, \"sentiment\": 2}]}\n",
      "{\"log_id\": 5072398973772669684, \"text\": \"恶意 抢注\", \"items\": [{\"positive_prob\": 0.0109405, \"confidence\": 0.975688, \"negative_prob\": 0.989059, \"sentiment\": 0}]}\n",
      "{\"log_id\": 519655335093809748, \"text\": \"加油\", \"items\": [{\"positive_prob\": 0.999899, \"confidence\": 0.999776, \"negative_prob\": 0.000100602, \"sentiment\": 2}]}\n",
      "{\"log_id\": 1440281794840947444, \"text\": \"老爹 魔法 对抗 魔法 出自 成龙 历险记\", \"items\": [{\"positive_prob\": 0.98789, \"confidence\": 0.97309, \"negative_prob\": 0.0121097, \"sentiment\": 2}]}\n",
      "{\"log_id\": 7043068853012845620, \"text\": \"支持 维权\", \"items\": [{\"positive_prob\": 0.572507, \"confidence\": 0.0500162, \"negative_prob\": 0.427493, \"sentiment\": 2}]}\n",
      "{\"log_id\": 5924616015248628596, \"text\": \"身份证 不见 改名 打算 明天 公安局 身份证 不见 真的 只带 户口本\", \"items\": [{\"positive_prob\": 0.0517427, \"confidence\": 0.885016, \"negative_prob\": 0.948257, \"sentiment\": 0}]}\n",
      "{\"log_id\": 6211031843337457876, \"text\": \"加油\", \"items\": [{\"positive_prob\": 0.999899, \"confidence\": 0.999776, \"negative_prob\": 0.000100602, \"sentiment\": 2}]}\n",
      "{\"log_id\": 8115012781129106004, \"text\": \"他妈的 可悲\", \"items\": [{\"positive_prob\": 0.000959914, \"confidence\": 0.997867, \"negative_prob\": 0.99904, \"sentiment\": 0}]}\n",
      "{\"log_id\": 955520268147200596, \"text\": \"2507.4\", \"items\": [{\"positive_prob\": 0.955637, \"confidence\": 0.901415, \"negative_prob\": 0.0443632, \"sentiment\": 2}]}\n",
      "{\"log_id\": 6608724430674763348, \"text\": \"浊酒 两杯 杯杯 值千金 一杯 死神 一杯 敬汉卿\", \"items\": [{\"positive_prob\": 0.949279, \"confidence\": 0.887287, \"negative_prob\": 0.0507207, \"sentiment\": 2}]}\n",
      "{\"log_id\": 3824040205649366580, \"text\": \"加油\", \"items\": [{\"positive_prob\": 0.999899, \"confidence\": 0.999776, \"negative_prob\": 0.000100602, \"sentiment\": 2}]}\n",
      "{\"log_id\": 8785019836583698196, \"text\": \"加油\", \"items\": [{\"positive_prob\": 0.999899, \"confidence\": 0.999776, \"negative_prob\": 0.000100602, \"sentiment\": 2}]}\n",
      "{\"log_id\": 2170035276678121300, \"text\": \"皮皮虾 关注\", \"items\": [{\"positive_prob\": 0.979208, \"confidence\": 0.953795, \"negative_prob\": 0.0207923, \"sentiment\": 2}]}\n",
      "{\"log_id\": 4382790749443703988, \"text\": \"加油\", \"items\": [{\"positive_prob\": 0.999899, \"confidence\": 0.999776, \"negative_prob\": 0.000100602, \"sentiment\": 2}]}\n",
      "{\"log_id\": 4943952585097434004, \"text\": \"冲冲\", \"items\": [{\"positive_prob\": 0.39345, \"confidence\": 0.125666, \"negative_prob\": 0.60655, \"sentiment\": 0}]}\n",
      "{\"log_id\": 4026187232908367636, \"text\": \"荒唐 名字 注册 部门 干嘛\", \"items\": [{\"positive_prob\": 0.00223357, \"confidence\": 0.995037, \"negative_prob\": 0.997766, \"sentiment\": 0}]}\n",
      "{\"log_id\": 7891266365587942292, \"text\": \"真的 没想到 敬汉卿 真名 父母 太有 好好\", \"items\": [{\"positive_prob\": 0.944991, \"confidence\": 0.877757, \"negative_prob\": 0.0550092, \"sentiment\": 2}]}\n",
      "{\"log_id\": 2594900271882146996, \"text\": \"第一次 三连 OK\", \"items\": [{\"positive_prob\": 0.957768, \"confidence\": 0.906151, \"negative_prob\": 0.042232, \"sentiment\": 2}]}\n",
      "{\"log_id\": 3427167221029723700, \"text\": \"太难\", \"items\": [{\"positive_prob\": 0.00516547, \"confidence\": 0.988521, \"negative_prob\": 0.994835, \"sentiment\": 0}]}\n",
      "{\"log_id\": 5498941905658007316, \"text\": \"喜欢 敬汉卿 大大的 视频 支持 依法 维权 抵制 不道德\", \"items\": [{\"positive_prob\": 0.645351, \"confidence\": 0.21189, \"negative_prob\": 0.354649, \"sentiment\": 2}]}\n",
      "{\"log_id\": 9124507892662877908, \"text\": \"支持\", \"items\": [{\"positive_prob\": 0.999875, \"confidence\": 0.999723, \"negative_prob\": 0.000124655, \"sentiment\": 2}]}\n",
      "{\"log_id\": 8953834600144803092, \"text\": \"敬汉卿 你好 节目 商标 这块 查询 要命 抢注 公示 抢注 做广告 凉凉 希望 重视 赶紧 商标 复议 复制 热心 网友 2019.7 初审 公示 三个 之内 复议 商标 告别 名字 复制粘贴 评论 敬汉卿 你好 节目 商标 这块 查询 要命 抢注 公示 抢注 做广告 凉凉 希望 重视 赶紧 商标 复议 复制 热心 网友 2019.7 初审 公示 三个 之内 复议 商标 告别 名字 复制粘贴 评论\", \"items\": [{\"positive_prob\": 0.0399023, \"confidence\": 0.911328, \"negative_prob\": 0.960098, \"sentiment\": 0}]}\n",
      "{\"log_id\": 336120389487814932, \"text\": \"抵制 非法经营 保护 维护 自名 正当权益 保护 姓名 提供 法律法规 政策 支持 敬汉卿 加油 call\", \"items\": [{\"positive_prob\": 0.0495279, \"confidence\": 0.889938, \"negative_prob\": 0.950472, \"sentiment\": 0}]}\n",
      "{\"log_id\": 5612652389691004436, \"text\": \"奥利\", \"items\": [{\"positive_prob\": 0.974855, \"confidence\": 0.944123, \"negative_prob\": 0.0251446, \"sentiment\": 2}]}\n",
      "{\"log_id\": 8730095801912143348, \"text\": \"加油 微笑\", \"items\": [{\"positive_prob\": 0.999872, \"confidence\": 0.999715, \"negative_prob\": 0.000128258, \"sentiment\": 2}]}\n",
      "{\"log_id\": 6686372376754372596, \"text\": \"就服 x1f44d __ x1f44d __ x1f44d __ x1f44d\", \"items\": [{\"positive_prob\": 0.402015, \"confidence\": 0.106632, \"negative_prob\": 0.597985, \"sentiment\": 0}]}\n",
      "{\"log_id\": 6580770738954412308, \"error_code\": 282134, \"error_msg\": \"input empty\"}\n",
      "{\"log_id\": 8571238025084953428, \"error_code\": 282134, \"error_msg\": \"input empty\"}\n",
      "{\"log_id\": 412679441302022996, \"error_code\": 282134, \"error_msg\": \"input empty\"}\n",
      "{\"log_id\": 3243634693896224724, \"text\": \"没想到 真的 名字\", \"items\": [{\"positive_prob\": 0.589137, \"confidence\": 0.0869703, \"negative_prob\": 0.410863, \"sentiment\": 2}]}\n",
      "{\"log_id\": 1988581843080249044, \"text\": \"三刷 视频\", \"items\": [{\"positive_prob\": 0.583325, \"confidence\": 0.0740563, \"negative_prob\": 0.416675, \"sentiment\": 2}]}\n",
      "{\"log_id\": 2233601822654851508, \"text\": \"看好\", \"items\": [{\"positive_prob\": 0.998914, \"confidence\": 0.997588, \"negative_prob\": 0.00108548, \"sentiment\": 2}]}\n",
      "{\"log_id\": 7020258747886187828, \"text\": \"加油\", \"items\": [{\"positive_prob\": 0.999899, \"confidence\": 0.999776, \"negative_prob\": 0.000100602, \"sentiment\": 2}]}\n",
      "{\"log_id\": 7195033526096400596, \"text\": \"法律 保护\", \"items\": [{\"positive_prob\": 0.317563, \"confidence\": 0.294304, \"negative_prob\": 0.682437, \"sentiment\": 0}]}\n",
      "{\"log_id\": 7061454235272664724, \"text\": \"口罩 口罩 口罩\", \"items\": [{\"positive_prob\": 0.248538, \"confidence\": 0.447694, \"negative_prob\": 0.751462, \"sentiment\": 0}]}\n",
      "{\"log_id\": 2942929796791261844, \"text\": \"劳资 弄死\", \"items\": [{\"positive_prob\": 0.00376808, \"confidence\": 0.991627, \"negative_prob\": 0.996232, \"sentiment\": 0}]}\n",
      "{\"log_id\": 6768415678779340116, \"text\": \"Ok\", \"items\": [{\"positive_prob\": 0.990515, \"confidence\": 0.978921, \"negative_prob\": 0.00948547, \"sentiment\": 2}]}\n",
      "{\"log_id\": 5297200431862165076, \"text\": \"加油\", \"items\": [{\"positive_prob\": 0.999899, \"confidence\": 0.999776, \"negative_prob\": 0.000100602, \"sentiment\": 2}]}\n",
      "{\"log_id\": 3597280717863779572, \"text\": \"加油\", \"items\": [{\"positive_prob\": 0.999899, \"confidence\": 0.999776, \"negative_prob\": 0.000100602, \"sentiment\": 2}]}\n",
      "{\"log_id\": 3532352069090505652, \"text\": \"维权\", \"items\": [{\"positive_prob\": 0.00329826, \"confidence\": 0.992671, \"negative_prob\": 0.996702, \"sentiment\": 0}]}\n",
      "{\"log_id\": 2001158419624783124, \"text\": \"不看 评论 多睾 粉丝\", \"items\": [{\"positive_prob\": 0.441654, \"confidence\": 0.018547, \"negative_prob\": 0.558346, \"sentiment\": 0}]}\n",
      "{\"log_id\": 1996326151741284756, \"text\": \"支持\", \"items\": [{\"positive_prob\": 0.999875, \"confidence\": 0.999723, \"negative_prob\": 0.000124655, \"sentiment\": 2}]}\n",
      "{\"log_id\": 636668617698550484, \"text\": \"一键 三连 害羞\", \"items\": [{\"positive_prob\": 0.998955, \"confidence\": 0.997678, \"negative_prob\": 0.00104495, \"sentiment\": 2}]}\n",
      "{\"log_id\": 1656121152169270036, \"text\": \"干巴 敬汉卿\", \"items\": [{\"positive_prob\": 0.7679, \"confidence\": 0.484223, \"negative_prob\": 0.2321, \"sentiment\": 2}]}\n",
      "{\"log_id\": 7189105860374452468, \"text\": \"加油\", \"items\": [{\"positive_prob\": 0.999899, \"confidence\": 0.999776, \"negative_prob\": 0.000100602, \"sentiment\": 2}]}\n"
     ]
    },
    {
     "ename": "KeyboardInterrupt",
     "evalue": "",
     "output_type": "error",
     "traceback": [
      "\u001b[0;31m---------------------------------------------------------------------------\u001b[0m",
      "\u001b[0;31mKeyboardInterrupt\u001b[0m                         Traceback (most recent call last)",
      "\u001b[0;32m<ipython-input-16-d23a6e938811>\u001b[0m in \u001b[0;36m<module>\u001b[0;34m()\u001b[0m\n\u001b[1;32m     10\u001b[0m     'text':str(comPreProcess(i))}\n\u001b[1;32m     11\u001b[0m     \u001b[0mdata\u001b[0m \u001b[0;34m=\u001b[0m \u001b[0mjson\u001b[0m\u001b[0;34m.\u001b[0m\u001b[0mdumps\u001b[0m\u001b[0;34m(\u001b[0m\u001b[0mdata\u001b[0m\u001b[0;34m)\u001b[0m\u001b[0;34m\u001b[0m\u001b[0m\n\u001b[0;32m---> 12\u001b[0;31m     \u001b[0mres\u001b[0m \u001b[0;34m=\u001b[0m \u001b[0mrequests\u001b[0m\u001b[0;34m.\u001b[0m\u001b[0mpost\u001b[0m\u001b[0;34m(\u001b[0m\u001b[0murl\u001b[0m\u001b[0;34m,\u001b[0m\u001b[0mdata\u001b[0m\u001b[0;34m=\u001b[0m\u001b[0mdata\u001b[0m\u001b[0;34m)\u001b[0m\u001b[0;34m\u001b[0m\u001b[0m\n\u001b[0m\u001b[1;32m     13\u001b[0m     \u001b[0mtime\u001b[0m\u001b[0;34m.\u001b[0m\u001b[0msleep\u001b[0m\u001b[0;34m(\u001b[0m\u001b[0;36m0.5\u001b[0m\u001b[0;34m)\u001b[0m\u001b[0;34m\u001b[0m\u001b[0m\n\u001b[1;32m     14\u001b[0m     \u001b[0mprint\u001b[0m\u001b[0;34m(\u001b[0m\u001b[0mres\u001b[0m\u001b[0;34m.\u001b[0m\u001b[0mtext\u001b[0m\u001b[0;34m)\u001b[0m\u001b[0;34m\u001b[0m\u001b[0m\n",
      "\u001b[0;32m~/anaconda3/lib/python3.6/site-packages/requests/api.py\u001b[0m in \u001b[0;36mpost\u001b[0;34m(url, data, json, **kwargs)\u001b[0m\n\u001b[1;32m    110\u001b[0m     \"\"\"\n\u001b[1;32m    111\u001b[0m \u001b[0;34m\u001b[0m\u001b[0m\n\u001b[0;32m--> 112\u001b[0;31m     \u001b[0;32mreturn\u001b[0m \u001b[0mrequest\u001b[0m\u001b[0;34m(\u001b[0m\u001b[0;34m'post'\u001b[0m\u001b[0;34m,\u001b[0m \u001b[0murl\u001b[0m\u001b[0;34m,\u001b[0m \u001b[0mdata\u001b[0m\u001b[0;34m=\u001b[0m\u001b[0mdata\u001b[0m\u001b[0;34m,\u001b[0m \u001b[0mjson\u001b[0m\u001b[0;34m=\u001b[0m\u001b[0mjson\u001b[0m\u001b[0;34m,\u001b[0m \u001b[0;34m**\u001b[0m\u001b[0mkwargs\u001b[0m\u001b[0;34m)\u001b[0m\u001b[0;34m\u001b[0m\u001b[0m\n\u001b[0m\u001b[1;32m    113\u001b[0m \u001b[0;34m\u001b[0m\u001b[0m\n\u001b[1;32m    114\u001b[0m \u001b[0;34m\u001b[0m\u001b[0m\n",
      "\u001b[0;32m~/anaconda3/lib/python3.6/site-packages/requests/api.py\u001b[0m in \u001b[0;36mrequest\u001b[0;34m(method, url, **kwargs)\u001b[0m\n\u001b[1;32m     56\u001b[0m     \u001b[0;31m# cases, and look like a memory leak in others.\u001b[0m\u001b[0;34m\u001b[0m\u001b[0;34m\u001b[0m\u001b[0m\n\u001b[1;32m     57\u001b[0m     \u001b[0;32mwith\u001b[0m \u001b[0msessions\u001b[0m\u001b[0;34m.\u001b[0m\u001b[0mSession\u001b[0m\u001b[0;34m(\u001b[0m\u001b[0;34m)\u001b[0m \u001b[0;32mas\u001b[0m \u001b[0msession\u001b[0m\u001b[0;34m:\u001b[0m\u001b[0;34m\u001b[0m\u001b[0m\n\u001b[0;32m---> 58\u001b[0;31m         \u001b[0;32mreturn\u001b[0m \u001b[0msession\u001b[0m\u001b[0;34m.\u001b[0m\u001b[0mrequest\u001b[0m\u001b[0;34m(\u001b[0m\u001b[0mmethod\u001b[0m\u001b[0;34m=\u001b[0m\u001b[0mmethod\u001b[0m\u001b[0;34m,\u001b[0m \u001b[0murl\u001b[0m\u001b[0;34m=\u001b[0m\u001b[0murl\u001b[0m\u001b[0;34m,\u001b[0m \u001b[0;34m**\u001b[0m\u001b[0mkwargs\u001b[0m\u001b[0;34m)\u001b[0m\u001b[0;34m\u001b[0m\u001b[0m\n\u001b[0m\u001b[1;32m     59\u001b[0m \u001b[0;34m\u001b[0m\u001b[0m\n\u001b[1;32m     60\u001b[0m \u001b[0;34m\u001b[0m\u001b[0m\n",
      "\u001b[0;32m~/anaconda3/lib/python3.6/site-packages/requests/sessions.py\u001b[0m in \u001b[0;36mrequest\u001b[0;34m(self, method, url, params, data, headers, cookies, files, auth, timeout, allow_redirects, proxies, hooks, stream, verify, cert, json)\u001b[0m\n\u001b[1;32m    506\u001b[0m         }\n\u001b[1;32m    507\u001b[0m         \u001b[0msend_kwargs\u001b[0m\u001b[0;34m.\u001b[0m\u001b[0mupdate\u001b[0m\u001b[0;34m(\u001b[0m\u001b[0msettings\u001b[0m\u001b[0;34m)\u001b[0m\u001b[0;34m\u001b[0m\u001b[0m\n\u001b[0;32m--> 508\u001b[0;31m         \u001b[0mresp\u001b[0m \u001b[0;34m=\u001b[0m \u001b[0mself\u001b[0m\u001b[0;34m.\u001b[0m\u001b[0msend\u001b[0m\u001b[0;34m(\u001b[0m\u001b[0mprep\u001b[0m\u001b[0;34m,\u001b[0m \u001b[0;34m**\u001b[0m\u001b[0msend_kwargs\u001b[0m\u001b[0;34m)\u001b[0m\u001b[0;34m\u001b[0m\u001b[0m\n\u001b[0m\u001b[1;32m    509\u001b[0m \u001b[0;34m\u001b[0m\u001b[0m\n\u001b[1;32m    510\u001b[0m         \u001b[0;32mreturn\u001b[0m \u001b[0mresp\u001b[0m\u001b[0;34m\u001b[0m\u001b[0m\n",
      "\u001b[0;32m~/anaconda3/lib/python3.6/site-packages/requests/sessions.py\u001b[0m in \u001b[0;36msend\u001b[0;34m(self, request, **kwargs)\u001b[0m\n\u001b[1;32m    616\u001b[0m \u001b[0;34m\u001b[0m\u001b[0m\n\u001b[1;32m    617\u001b[0m         \u001b[0;31m# Send the request\u001b[0m\u001b[0;34m\u001b[0m\u001b[0;34m\u001b[0m\u001b[0m\n\u001b[0;32m--> 618\u001b[0;31m         \u001b[0mr\u001b[0m \u001b[0;34m=\u001b[0m \u001b[0madapter\u001b[0m\u001b[0;34m.\u001b[0m\u001b[0msend\u001b[0m\u001b[0;34m(\u001b[0m\u001b[0mrequest\u001b[0m\u001b[0;34m,\u001b[0m \u001b[0;34m**\u001b[0m\u001b[0mkwargs\u001b[0m\u001b[0;34m)\u001b[0m\u001b[0;34m\u001b[0m\u001b[0m\n\u001b[0m\u001b[1;32m    619\u001b[0m \u001b[0;34m\u001b[0m\u001b[0m\n\u001b[1;32m    620\u001b[0m         \u001b[0;31m# Total elapsed time of the request (approximately)\u001b[0m\u001b[0;34m\u001b[0m\u001b[0;34m\u001b[0m\u001b[0m\n",
      "\u001b[0;32m~/anaconda3/lib/python3.6/site-packages/requests/adapters.py\u001b[0m in \u001b[0;36msend\u001b[0;34m(self, request, stream, timeout, verify, cert, proxies)\u001b[0m\n\u001b[1;32m    438\u001b[0m                     \u001b[0mdecode_content\u001b[0m\u001b[0;34m=\u001b[0m\u001b[0;32mFalse\u001b[0m\u001b[0;34m,\u001b[0m\u001b[0;34m\u001b[0m\u001b[0m\n\u001b[1;32m    439\u001b[0m                     \u001b[0mretries\u001b[0m\u001b[0;34m=\u001b[0m\u001b[0mself\u001b[0m\u001b[0;34m.\u001b[0m\u001b[0mmax_retries\u001b[0m\u001b[0;34m,\u001b[0m\u001b[0;34m\u001b[0m\u001b[0m\n\u001b[0;32m--> 440\u001b[0;31m                     \u001b[0mtimeout\u001b[0m\u001b[0;34m=\u001b[0m\u001b[0mtimeout\u001b[0m\u001b[0;34m\u001b[0m\u001b[0m\n\u001b[0m\u001b[1;32m    441\u001b[0m                 )\n\u001b[1;32m    442\u001b[0m \u001b[0;34m\u001b[0m\u001b[0m\n",
      "\u001b[0;32m~/anaconda3/lib/python3.6/site-packages/urllib3/connectionpool.py\u001b[0m in \u001b[0;36murlopen\u001b[0;34m(self, method, url, body, headers, retries, redirect, assert_same_host, timeout, pool_timeout, release_conn, chunked, body_pos, **response_kw)\u001b[0m\n\u001b[1;32m    599\u001b[0m                                                   \u001b[0mtimeout\u001b[0m\u001b[0;34m=\u001b[0m\u001b[0mtimeout_obj\u001b[0m\u001b[0;34m,\u001b[0m\u001b[0;34m\u001b[0m\u001b[0m\n\u001b[1;32m    600\u001b[0m                                                   \u001b[0mbody\u001b[0m\u001b[0;34m=\u001b[0m\u001b[0mbody\u001b[0m\u001b[0;34m,\u001b[0m \u001b[0mheaders\u001b[0m\u001b[0;34m=\u001b[0m\u001b[0mheaders\u001b[0m\u001b[0;34m,\u001b[0m\u001b[0;34m\u001b[0m\u001b[0m\n\u001b[0;32m--> 601\u001b[0;31m                                                   chunked=chunked)\n\u001b[0m\u001b[1;32m    602\u001b[0m \u001b[0;34m\u001b[0m\u001b[0m\n\u001b[1;32m    603\u001b[0m             \u001b[0;31m# If we're going to release the connection in ``finally:``, then\u001b[0m\u001b[0;34m\u001b[0m\u001b[0;34m\u001b[0m\u001b[0m\n",
      "\u001b[0;32m~/anaconda3/lib/python3.6/site-packages/urllib3/connectionpool.py\u001b[0m in \u001b[0;36m_make_request\u001b[0;34m(self, conn, method, url, timeout, chunked, **httplib_request_kw)\u001b[0m\n\u001b[1;32m    344\u001b[0m         \u001b[0;31m# Trigger any extra validation we need to do.\u001b[0m\u001b[0;34m\u001b[0m\u001b[0;34m\u001b[0m\u001b[0m\n\u001b[1;32m    345\u001b[0m         \u001b[0;32mtry\u001b[0m\u001b[0;34m:\u001b[0m\u001b[0;34m\u001b[0m\u001b[0m\n\u001b[0;32m--> 346\u001b[0;31m             \u001b[0mself\u001b[0m\u001b[0;34m.\u001b[0m\u001b[0m_validate_conn\u001b[0m\u001b[0;34m(\u001b[0m\u001b[0mconn\u001b[0m\u001b[0;34m)\u001b[0m\u001b[0;34m\u001b[0m\u001b[0m\n\u001b[0m\u001b[1;32m    347\u001b[0m         \u001b[0;32mexcept\u001b[0m \u001b[0;34m(\u001b[0m\u001b[0mSocketTimeout\u001b[0m\u001b[0;34m,\u001b[0m \u001b[0mBaseSSLError\u001b[0m\u001b[0;34m)\u001b[0m \u001b[0;32mas\u001b[0m \u001b[0me\u001b[0m\u001b[0;34m:\u001b[0m\u001b[0;34m\u001b[0m\u001b[0m\n\u001b[1;32m    348\u001b[0m             \u001b[0;31m# Py2 raises this as a BaseSSLError, Py3 raises it as socket timeout.\u001b[0m\u001b[0;34m\u001b[0m\u001b[0;34m\u001b[0m\u001b[0m\n",
      "\u001b[0;32m~/anaconda3/lib/python3.6/site-packages/urllib3/connectionpool.py\u001b[0m in \u001b[0;36m_validate_conn\u001b[0;34m(self, conn)\u001b[0m\n\u001b[1;32m    848\u001b[0m         \u001b[0;31m# Force connect early to allow us to validate the connection.\u001b[0m\u001b[0;34m\u001b[0m\u001b[0;34m\u001b[0m\u001b[0m\n\u001b[1;32m    849\u001b[0m         \u001b[0;32mif\u001b[0m \u001b[0;32mnot\u001b[0m \u001b[0mgetattr\u001b[0m\u001b[0;34m(\u001b[0m\u001b[0mconn\u001b[0m\u001b[0;34m,\u001b[0m \u001b[0;34m'sock'\u001b[0m\u001b[0;34m,\u001b[0m \u001b[0;32mNone\u001b[0m\u001b[0;34m)\u001b[0m\u001b[0;34m:\u001b[0m  \u001b[0;31m# AppEngine might not have  `.sock`\u001b[0m\u001b[0;34m\u001b[0m\u001b[0m\n\u001b[0;32m--> 850\u001b[0;31m             \u001b[0mconn\u001b[0m\u001b[0;34m.\u001b[0m\u001b[0mconnect\u001b[0m\u001b[0;34m(\u001b[0m\u001b[0;34m)\u001b[0m\u001b[0;34m\u001b[0m\u001b[0m\n\u001b[0m\u001b[1;32m    851\u001b[0m \u001b[0;34m\u001b[0m\u001b[0m\n\u001b[1;32m    852\u001b[0m         \u001b[0;32mif\u001b[0m \u001b[0;32mnot\u001b[0m \u001b[0mconn\u001b[0m\u001b[0;34m.\u001b[0m\u001b[0mis_verified\u001b[0m\u001b[0;34m:\u001b[0m\u001b[0;34m\u001b[0m\u001b[0m\n",
      "\u001b[0;32m~/anaconda3/lib/python3.6/site-packages/urllib3/connection.py\u001b[0m in \u001b[0;36mconnect\u001b[0;34m(self)\u001b[0m\n\u001b[1;32m    324\u001b[0m             \u001b[0mca_cert_dir\u001b[0m\u001b[0;34m=\u001b[0m\u001b[0mself\u001b[0m\u001b[0;34m.\u001b[0m\u001b[0mca_cert_dir\u001b[0m\u001b[0;34m,\u001b[0m\u001b[0;34m\u001b[0m\u001b[0m\n\u001b[1;32m    325\u001b[0m             \u001b[0mserver_hostname\u001b[0m\u001b[0;34m=\u001b[0m\u001b[0mhostname\u001b[0m\u001b[0;34m,\u001b[0m\u001b[0;34m\u001b[0m\u001b[0m\n\u001b[0;32m--> 326\u001b[0;31m             ssl_context=context)\n\u001b[0m\u001b[1;32m    327\u001b[0m \u001b[0;34m\u001b[0m\u001b[0m\n\u001b[1;32m    328\u001b[0m         \u001b[0;32mif\u001b[0m \u001b[0mself\u001b[0m\u001b[0;34m.\u001b[0m\u001b[0massert_fingerprint\u001b[0m\u001b[0;34m:\u001b[0m\u001b[0;34m\u001b[0m\u001b[0m\n",
      "\u001b[0;32m~/anaconda3/lib/python3.6/site-packages/urllib3/util/ssl_.py\u001b[0m in \u001b[0;36mssl_wrap_socket\u001b[0;34m(sock, keyfile, certfile, cert_reqs, ca_certs, server_hostname, ssl_version, ciphers, ssl_context, ca_cert_dir)\u001b[0m\n\u001b[1;32m    327\u001b[0m         \u001b[0mcontext\u001b[0m\u001b[0;34m.\u001b[0m\u001b[0mload_cert_chain\u001b[0m\u001b[0;34m(\u001b[0m\u001b[0mcertfile\u001b[0m\u001b[0;34m,\u001b[0m \u001b[0mkeyfile\u001b[0m\u001b[0;34m)\u001b[0m\u001b[0;34m\u001b[0m\u001b[0m\n\u001b[1;32m    328\u001b[0m     \u001b[0;32mif\u001b[0m \u001b[0mHAS_SNI\u001b[0m\u001b[0;34m:\u001b[0m  \u001b[0;31m# Platform-specific: OpenSSL with enabled SNI\u001b[0m\u001b[0;34m\u001b[0m\u001b[0m\n\u001b[0;32m--> 329\u001b[0;31m         \u001b[0;32mreturn\u001b[0m \u001b[0mcontext\u001b[0m\u001b[0;34m.\u001b[0m\u001b[0mwrap_socket\u001b[0m\u001b[0;34m(\u001b[0m\u001b[0msock\u001b[0m\u001b[0;34m,\u001b[0m \u001b[0mserver_hostname\u001b[0m\u001b[0;34m=\u001b[0m\u001b[0mserver_hostname\u001b[0m\u001b[0;34m)\u001b[0m\u001b[0;34m\u001b[0m\u001b[0m\n\u001b[0m\u001b[1;32m    330\u001b[0m \u001b[0;34m\u001b[0m\u001b[0m\n\u001b[1;32m    331\u001b[0m     warnings.warn(\n",
      "\u001b[0;32m~/anaconda3/lib/python3.6/site-packages/urllib3/contrib/pyopenssl.py\u001b[0m in \u001b[0;36mwrap_socket\u001b[0;34m(self, sock, server_side, do_handshake_on_connect, suppress_ragged_eofs, server_hostname)\u001b[0m\n\u001b[1;32m    439\u001b[0m         \u001b[0;32mwhile\u001b[0m \u001b[0;32mTrue\u001b[0m\u001b[0;34m:\u001b[0m\u001b[0;34m\u001b[0m\u001b[0m\n\u001b[1;32m    440\u001b[0m             \u001b[0;32mtry\u001b[0m\u001b[0;34m:\u001b[0m\u001b[0;34m\u001b[0m\u001b[0m\n\u001b[0;32m--> 441\u001b[0;31m                 \u001b[0mcnx\u001b[0m\u001b[0;34m.\u001b[0m\u001b[0mdo_handshake\u001b[0m\u001b[0;34m(\u001b[0m\u001b[0;34m)\u001b[0m\u001b[0;34m\u001b[0m\u001b[0m\n\u001b[0m\u001b[1;32m    442\u001b[0m             \u001b[0;32mexcept\u001b[0m \u001b[0mOpenSSL\u001b[0m\u001b[0;34m.\u001b[0m\u001b[0mSSL\u001b[0m\u001b[0;34m.\u001b[0m\u001b[0mWantReadError\u001b[0m\u001b[0;34m:\u001b[0m\u001b[0;34m\u001b[0m\u001b[0m\n\u001b[1;32m    443\u001b[0m                 \u001b[0mrd\u001b[0m \u001b[0;34m=\u001b[0m \u001b[0mutil\u001b[0m\u001b[0;34m.\u001b[0m\u001b[0mwait_for_read\u001b[0m\u001b[0;34m(\u001b[0m\u001b[0msock\u001b[0m\u001b[0;34m,\u001b[0m \u001b[0msock\u001b[0m\u001b[0;34m.\u001b[0m\u001b[0mgettimeout\u001b[0m\u001b[0;34m(\u001b[0m\u001b[0;34m)\u001b[0m\u001b[0;34m)\u001b[0m\u001b[0;34m\u001b[0m\u001b[0m\n",
      "\u001b[0;32m~/anaconda3/lib/python3.6/site-packages/OpenSSL/SSL.py\u001b[0m in \u001b[0;36mdo_handshake\u001b[0;34m(self)\u001b[0m\n\u001b[1;32m   1803\u001b[0m         \u001b[0;34m:\u001b[0m\u001b[0;32mreturn\u001b[0m\u001b[0;34m:\u001b[0m \u001b[0;32mNone\u001b[0m\u001b[0;34m.\u001b[0m\u001b[0;34m\u001b[0m\u001b[0m\n\u001b[1;32m   1804\u001b[0m         \"\"\"\n\u001b[0;32m-> 1805\u001b[0;31m         \u001b[0mresult\u001b[0m \u001b[0;34m=\u001b[0m \u001b[0m_lib\u001b[0m\u001b[0;34m.\u001b[0m\u001b[0mSSL_do_handshake\u001b[0m\u001b[0;34m(\u001b[0m\u001b[0mself\u001b[0m\u001b[0;34m.\u001b[0m\u001b[0m_ssl\u001b[0m\u001b[0;34m)\u001b[0m\u001b[0;34m\u001b[0m\u001b[0m\n\u001b[0m\u001b[1;32m   1806\u001b[0m         \u001b[0mself\u001b[0m\u001b[0;34m.\u001b[0m\u001b[0m_raise_ssl_error\u001b[0m\u001b[0;34m(\u001b[0m\u001b[0mself\u001b[0m\u001b[0;34m.\u001b[0m\u001b[0m_ssl\u001b[0m\u001b[0;34m,\u001b[0m \u001b[0mresult\u001b[0m\u001b[0;34m)\u001b[0m\u001b[0;34m\u001b[0m\u001b[0m\n\u001b[1;32m   1807\u001b[0m \u001b[0;34m\u001b[0m\u001b[0m\n",
      "\u001b[0;31mKeyboardInterrupt\u001b[0m: "
     ]
    }
   ],
   "source": [
    "import pandas as pd\n",
    "import time\n",
    "df_pl_content = pd.read_csv('./data/BiliComment_contain20000.csv', sep='\\t')\n",
    "df_pl_content = df_pl_content.content.values.tolist()\n",
    "token = '24.8d9184644bfb4116e1504b01b920267f.2592000.1587266423.282335-18942611'\n",
    "url = 'https://aip.baidubce.com/rpc/2.0/nlp/v1/sentiment_classify?charset=UTF-8&access_token={}'.format(token)\n",
    "\n",
    "for i in df_pl_content[:100]:\n",
    "    data = {\n",
    "    'text':str(comPreProcess(i))}  # 处理后 使用百度api\n",
    "    data = json.dumps(data)\n",
    "    res = requests.post(url,data=data)\n",
    "    time.sleep(0.5)\n",
    "    print(res.text)"
   ]
  },
  {
   "cell_type": "code",
   "execution_count": 17,
   "metadata": {},
   "outputs": [
    {
     "name": "stdout",
     "output_type": "stream",
     "text": [
      "{\"log_id\": 1752107945670071380, \"text\": \"也是上过央视哈哈哈哈哈哈\", \"items\": [{\"positive_prob\": 0.995731, \"confidence\": 0.990514, \"negative_prob\": 0.00426863, \"sentiment\": 2}]}\n",
      "{\"log_id\": 3377486937392338388, \"text\": \"恶意抢注\", \"items\": [{\"positive_prob\": 0.873927, \"confidence\": 0.719837, \"negative_prob\": 0.126073, \"sentiment\": 2}]}\n",
      "{\"log_id\": 1860333795951970804, \"text\": \"加油\", \"items\": [{\"positive_prob\": 0.999899, \"confidence\": 0.999776, \"negative_prob\": 0.000100602, \"sentiment\": 2}]}\n",
      "{\"log_id\": 6970015053900480116, \"text\": \"老爹说过要用魔法对抗魔法        出自《成龙历险记》。\", \"items\": [{\"positive_prob\": 0.944164, \"confidence\": 0.875919, \"negative_prob\": 0.0558365, \"sentiment\": 2}]}\n",
      "{\"log_id\": 4691325944519082196, \"text\": \"支持维权\", \"items\": [{\"positive_prob\": 0.572507, \"confidence\": 0.0500161, \"negative_prob\": 0.427493, \"sentiment\": 2}]}\n",
      "{\"log_id\": 7593698352787230996, \"text\": \"身份证不见了还可以去改名吗？急，打算明天去公安局改的，结果身份证不见了，真的想哭，已经成年了，只带户口本可以去改吗？\", \"items\": [{\"positive_prob\": 0.0133782, \"confidence\": 0.970271, \"negative_prob\": 0.986622, \"sentiment\": 0}]}\n",
      "{\"log_id\": 1359815905425623796, \"text\": \"加油\", \"items\": [{\"positive_prob\": 0.999899, \"confidence\": 0.999776, \"negative_prob\": 0.000100602, \"sentiment\": 2}]}\n",
      "{\"log_id\": 930939781217576916, \"text\": \"真他妈的可悲\", \"items\": [{\"positive_prob\": 0.00018028, \"confidence\": 0.999599, \"negative_prob\": 0.99982, \"sentiment\": 0}]}\n",
      "{\"log_id\": 4628391667911760084, \"text\": \"2507.4w\", \"items\": [{\"positive_prob\": 0.95626, \"confidence\": 0.902799, \"negative_prob\": 0.0437403, \"sentiment\": 2}]}\n",
      "{\"log_id\": 4239640217223508052, \"text\": \"浊酒有两杯，杯杯值千金。\\r一杯敬死神，一杯敬汉卿。\", \"items\": [{\"positive_prob\": 0.971649, \"confidence\": 0.936997, \"negative_prob\": 0.0283512, \"sentiment\": 2}]}\n",
      "{\"log_id\": 6178369846451126708, \"text\": \"加油\", \"items\": [{\"positive_prob\": 0.999899, \"confidence\": 0.999776, \"negative_prob\": 0.000100602, \"sentiment\": 2}]}\n",
      "{\"log_id\": 2188556839899834196, \"text\": \"加油\", \"items\": [{\"positive_prob\": 0.999899, \"confidence\": 0.999776, \"negative_prob\": 0.000100602, \"sentiment\": 2}]}\n",
      "{\"log_id\": 8324765870182765428, \"text\": \"皮皮虾和b站都关注了\", \"items\": [{\"positive_prob\": 0.99276, \"confidence\": 0.983911, \"negative_prob\": 0.00723996, \"sentiment\": 2}]}\n",
      "{\"log_id\": 3999118792272414356, \"text\": \"加油\", \"items\": [{\"positive_prob\": 0.999899, \"confidence\": 0.999776, \"negative_prob\": 0.000100602, \"sentiment\": 2}]}\n",
      "{\"log_id\": 7136530999825771764, \"text\": \"冲冲冲\", \"items\": [{\"positive_prob\": 0.914975, \"confidence\": 0.811056, \"negative_prob\": 0.0850249, \"sentiment\": 2}]}\n",
      "{\"log_id\": 869621072129295668, \"text\": \"这事本身就很荒唐，人家名字也可以注册？呵呵笑死我了，这个部门在干嘛\", \"items\": [{\"positive_prob\": 0.000120403, \"confidence\": 0.999732, \"negative_prob\": 0.99988, \"sentiment\": 0}]}\n",
      "{\"log_id\": 8704161813550328276, \"text\": \"真的没想到敬汉卿是真名，父母太有才了，取的好好听\", \"items\": [{\"positive_prob\": 0.983637, \"confidence\": 0.963637, \"negative_prob\": 0.0163632, \"sentiment\": 2}]}\n",
      "{\"log_id\": 4847450521678164244, \"text\": \"第一次三连[OK]\", \"items\": [{\"positive_prob\": 0.999395, \"confidence\": 0.998656, \"negative_prob\": 0.000604757, \"sentiment\": 2}]}\n",
      "{\"log_id\": 3527450912768422676, \"text\": \"太难了up主\", \"items\": [{\"positive_prob\": 0.0328073, \"confidence\": 0.927095, \"negative_prob\": 0.967193, \"sentiment\": 0}]}\n",
      "{\"log_id\": 5791431434510748756, \"text\": \"一直喜欢敬汉卿大大的视频，支持依法维权，坚决抵制这种不道德的行为。\", \"items\": [{\"positive_prob\": 0.399047, \"confidence\": 0.113228, \"negative_prob\": 0.600953, \"sentiment\": 0}]}\n",
      "{\"log_id\": 1586995380117219892, \"text\": \"支持你\", \"items\": [{\"positive_prob\": 0.999875, \"confidence\": 0.999723, \"negative_prob\": 0.000124655, \"sentiment\": 2}]}\n",
      "{\"log_id\": 1047251237987626580, \"text\": \"敬汉卿你好，我也经常看你的节目，我们也是做商标这块的。刚才查询了一下，目前这个41还不是最要命的，你的35类也被抢注了，现在正在公示，如果35类被抢注，你就不能做广告，彻底凉凉了，希望你能引起共重视，现在赶紧去。35类的商标进行复议 复制自热心网友35类已经在2019.7.13号开始初审公示了，如果在三个月之内，也就是10月13号之前没有人复议的话就通过了，你35类商标如果丢了的话，你彻底就告别这个名字了（复制粘贴评论区）敬汉卿你好，我也经常看你的节目，我们也是做商标这块的。刚才查询了一下，目前这个41还不是最要命的，你的35类也被抢注了，现在正在公示，如果35类被抢注，你就不能做广告，彻底凉凉了，希望你能引起共重视，现在赶紧去。35类的商标进行复议 复制自热心网友35类已经在2019.7.13号开始初审公示了，如果在三个月之内，也就是10月13号之前没有人复议的话就通过了，你35类商标如果丢了的话，你彻底就告别这个名字了（复制粘贴评论区）\", \"items\": [{\"positive_prob\": 0.0274316, \"confidence\": 0.939041, \"negative_prob\": 0.972568, \"sentiment\": 0}]}\n",
      "{\"log_id\": 4171154035072217076, \"text\": \"抵制非法经营，保护维护自名正当权益，保护姓名并提供法律法规政策支持。敬汉卿，加油！[打call]\", \"items\": [{\"positive_prob\": 0.278825, \"confidence\": 0.380388, \"negative_prob\": 0.721175, \"sentiment\": 0}]}\n",
      "{\"log_id\": 1804223164373969780, \"text\": \"奥利给\", \"items\": [{\"positive_prob\": 0.88973, \"confidence\": 0.754956, \"negative_prob\": 0.11027, \"sentiment\": 2}]}\n",
      "{\"log_id\": 353886044817001620, \"text\": \"加油[微笑]\", \"items\": [{\"positive_prob\": 0.999982, \"confidence\": 0.99996, \"negative_prob\": 1.78592e-05, \"sentiment\": 2}]}\n",
      "{\"log_id\": 258271653445824532, \"text\": \"就服你_x1f44d__x1f44d__x1f44d__x1f44d_\", \"items\": [{\"positive_prob\": 0.0653348, \"confidence\": 0.854812, \"negative_prob\": 0.934665, \"sentiment\": 0}]}\n",
      "{\"log_id\": 8465134759621111348, \"text\": \"嘿嘿\", \"items\": [{\"positive_prob\": 0.998742, \"confidence\": 0.997205, \"negative_prob\": 0.00125795, \"sentiment\": 2}]}\n",
      "{\"log_id\": 2882204054719774932, \"text\": \"。。。\", \"items\": [{\"positive_prob\": 0.130675, \"confidence\": 0.709611, \"negative_prob\": 0.869325, \"sentiment\": 0}]}\n",
      "{\"log_id\": 1930280441687756692, \"text\": \"牛逼\", \"items\": [{\"positive_prob\": 0.994114, \"confidence\": 0.986921, \"negative_prob\": 0.00588572, \"sentiment\": 2}]}\n",
      "{\"log_id\": 7121569346473722548, \"text\": \"没想到吧我真的叫这名字\", \"items\": [{\"positive_prob\": 0.184939, \"confidence\": 0.589025, \"negative_prob\": 0.815061, \"sentiment\": 0}]}\n",
      "{\"log_id\": 2454094849305680180, \"text\": \"三刷这视频\", \"items\": [{\"positive_prob\": 0.252052, \"confidence\": 0.439884, \"negative_prob\": 0.747948, \"sentiment\": 0}]}\n",
      "{\"log_id\": 2691347613556298420, \"text\": \"看好\", \"items\": [{\"positive_prob\": 0.998914, \"confidence\": 0.997588, \"negative_prob\": 0.00108548, \"sentiment\": 2}]}\n",
      "{\"log_id\": 7169002840512359892, \"text\": \"加油\", \"items\": [{\"positive_prob\": 0.999899, \"confidence\": 0.999776, \"negative_prob\": 0.000100602, \"sentiment\": 2}]}\n",
      "{\"log_id\": 160378260117705332, \"text\": \"up主不要怕，法律会保护你的！\", \"items\": [{\"positive_prob\": 0.729145, \"confidence\": 0.398099, \"negative_prob\": 0.270855, \"sentiment\": 2}]}\n",
      "{\"log_id\": 4233019782572733108, \"text\": \"[口罩][口罩][口罩]\", \"items\": [{\"positive_prob\": 0.497625, \"confidence\": 0.952499, \"negative_prob\": 0.502375, \"sentiment\": 1}]}\n",
      "{\"log_id\": 8859906961710319220, \"text\": \"劳资不弄死他\", \"items\": [{\"positive_prob\": 0.00126769, \"confidence\": 0.997183, \"negative_prob\": 0.998732, \"sentiment\": 0}]}\n",
      "{\"log_id\": 6105379281023593204, \"text\": \"Ok\", \"items\": [{\"positive_prob\": 0.990515, \"confidence\": 0.978921, \"negative_prob\": 0.00948547, \"sentiment\": 2}]}\n",
      "{\"log_id\": 4470010179203989748, \"text\": \"加油\", \"items\": [{\"positive_prob\": 0.999899, \"confidence\": 0.999776, \"negative_prob\": 0.000100602, \"sentiment\": 2}]}\n",
      "{\"log_id\": 7341753705812119796, \"text\": \"加油\", \"items\": [{\"positive_prob\": 0.999899, \"confidence\": 0.999776, \"negative_prob\": 0.000100602, \"sentiment\": 2}]}\n",
      "{\"log_id\": 6853563617963492180, \"text\": \"我想知道维权现在结果怎么样了\", \"items\": [{\"positive_prob\": 0.00250717, \"confidence\": 0.994429, \"negative_prob\": 0.997493, \"sentiment\": 0}]}\n",
      "{\"log_id\": 2391480356259593044, \"text\": \"不看评论区还不知道原来B站有这么多睾粉丝量up。\", \"items\": [{\"positive_prob\": 0.175545, \"confidence\": 0.6099, \"negative_prob\": 0.824455, \"sentiment\": 0}]}\n",
      "{\"log_id\": 6173195698486637972, \"text\": \"支持\", \"items\": [{\"positive_prob\": 0.999875, \"confidence\": 0.999723, \"negative_prob\": 0.000124655, \"sentiment\": 2}]}\n",
      "{\"log_id\": 2824273740469053716, \"text\": \"一键三连[害羞]\", \"items\": [{\"positive_prob\": 0.999975, \"confidence\": 0.999944, \"negative_prob\": 2.51428e-05, \"sentiment\": 2}]}\n",
      "{\"log_id\": 3796992244017461780, \"text\": \"干巴爹，敬汉卿，\", \"items\": [{\"positive_prob\": 0.246191, \"confidence\": 0.45291, \"negative_prob\": 0.753809, \"sentiment\": 0}]}\n",
      "{\"log_id\": 8341653466976660596, \"text\": \"加油\", \"items\": [{\"positive_prob\": 0.999899, \"confidence\": 0.999776, \"negative_prob\": 0.000100602, \"sentiment\": 2}]}\n",
      "{\"log_id\": 5682902876234838228, \"text\": \"牛批\", \"items\": [{\"positive_prob\": 0.998608, \"confidence\": 0.996907, \"negative_prob\": 0.00139163, \"sentiment\": 2}]}\n",
      "{\"log_id\": 5247474743848448660, \"text\": \"那么，我这个叫徐智摩的还是不要出名好了\", \"items\": [{\"positive_prob\": 0.0304254, \"confidence\": 0.932388, \"negative_prob\": 0.969575, \"sentiment\": 0}]}\n",
      "{\"log_id\": 257503601201375796, \"text\": \"加油\", \"items\": [{\"positive_prob\": 0.999899, \"confidence\": 0.999776, \"negative_prob\": 0.000100602, \"sentiment\": 2}]}\n"
     ]
    },
    {
     "name": "stdout",
     "output_type": "stream",
     "text": [
      "{\"log_id\": 8473506044833467764, \"text\": \"[doge][doge][doge][doge]\", \"items\": [{\"positive_prob\": 0.999487, \"confidence\": 0.998861, \"negative_prob\": 0.000512599, \"sentiment\": 2}]}\n",
      "{\"log_id\": 5622713358858142484, \"text\": \"干屎他们\", \"items\": [{\"positive_prob\": 0.00052606, \"confidence\": 0.998831, \"negative_prob\": 0.999474, \"sentiment\": 0}]}\n",
      "{\"log_id\": 1323532799162141492, \"text\": \"å¥½\", \"items\": [{\"positive_prob\": 0.999547, \"confidence\": 0.998993, \"negative_prob\": 0.000452987, \"sentiment\": 2}]}\n",
      "{\"log_id\": 6233282473206007028, \"text\": \"加油\", \"items\": [{\"positive_prob\": 0.999899, \"confidence\": 0.999776, \"negative_prob\": 0.000100602, \"sentiment\": 2}]}\n",
      "{\"log_id\": 1732322257677414580, \"text\": \"给大家分享一个视频哈，大概内容喷是n年前jhq喝恒河水的事，说这个有可能会引起瘟疫爆发传给中国[热词系列_秀]人家想靠瘟疫＋敬汉卿两个热点词打造爆款呢，前段时间孔雀肉之后又来一波恒河水，下期估计就是喷敬汉卿17年口罩挑战了av89044842[热词系列_可以]\", \"items\": [{\"positive_prob\": 0.820697, \"confidence\": 0.601549, \"negative_prob\": 0.179303, \"sentiment\": 2}]}\n",
      "{\"log_id\": 1972500842811897972, \"text\": \"186400！\", \"items\": [{\"positive_prob\": 0.765224, \"confidence\": 0.478276, \"negative_prob\": 0.234776, \"sentiment\": 2}]}\n",
      "{\"log_id\": 290153491004412340, \"text\": \"这都是什么破事啊？还敢勒索？\", \"items\": [{\"positive_prob\": 1.55206e-05, \"confidence\": 0.999965, \"negative_prob\": 0.999984, \"sentiment\": 0}]}\n",
      "{\"log_id\": 2360537036136987060, \"text\": \"永远支持你\", \"items\": [{\"positive_prob\": 0.999918, \"confidence\": 0.999818, \"negative_prob\": 8.20025e-05, \"sentiment\": 2}]}\n",
      "{\"log_id\": 8469714077067743348, \"text\": \"姓名权优先大于商标权，没有任何人有权利让敬汉卿改名，除了他自己\", \"items\": [{\"positive_prob\": 0.00667945, \"confidence\": 0.985157, \"negative_prob\": 0.993321, \"sentiment\": 0}]}\n",
      "{\"log_id\": 1040625334694802772, \"text\": \"从AV62399999的评论过来的\", \"items\": [{\"positive_prob\": 0.514336, \"confidence\": 0.713283, \"negative_prob\": 0.485664, \"sentiment\": 1}]}\n",
      "{\"log_id\": 6554201847008324148, \"text\": \"up主为什么我看你的粉丝降到了700多万＠_＠\", \"items\": [{\"positive_prob\": 0.0154323, \"confidence\": 0.965706, \"negative_prob\": 0.984568, \"sentiment\": 0}]}\n",
      "{\"log_id\": 8772707493882123604, \"text\": \"嗯嗯\", \"items\": [{\"positive_prob\": 0.624257, \"confidence\": 0.165016, \"negative_prob\": 0.375743, \"sentiment\": 2}]}\n",
      "{\"log_id\": 2512752458407568788, \"text\": \"敬汉卿加油！！！！\", \"items\": [{\"positive_prob\": 0.984636, \"confidence\": 0.965858, \"negative_prob\": 0.015364, \"sentiment\": 2}]}\n",
      "{\"log_id\": 470195584848156596, \"text\": \"已三连\", \"items\": [{\"positive_prob\": 0.716189, \"confidence\": 0.369308, \"negative_prob\": 0.283811, \"sentiment\": 2}]}\n",
      "{\"log_id\": 6956388153890961812, \"text\": \"加油哦\", \"items\": [{\"positive_prob\": 0.999851, \"confidence\": 0.99967, \"negative_prob\": 0.000148639, \"sentiment\": 2}]}\n",
      "{\"log_id\": 3807302550941247348, \"text\": \"支持\", \"items\": [{\"positive_prob\": 0.999875, \"confidence\": 0.999723, \"negative_prob\": 0.000124655, \"sentiment\": 2}]}\n",
      "{\"log_id\": 8652265522083628468, \"text\": \"加油\", \"items\": [{\"positive_prob\": 0.999899, \"confidence\": 0.999776, \"negative_prob\": 0.000100602, \"sentiment\": 2}]}\n",
      "{\"log_id\": 2777881180477929588, \"text\": \"加油\", \"items\": [{\"positive_prob\": 0.999899, \"confidence\": 0.999776, \"negative_prob\": 0.000100602, \"sentiment\": 2}]}\n",
      "{\"log_id\": 4786177441739280564, \"text\": \"哦，嗯，好的。\", \"items\": [{\"positive_prob\": 0.99238, \"confidence\": 0.983067, \"negative_prob\": 0.00761976, \"sentiment\": 2}]}\n",
      "{\"log_id\": 4650581592118141812, \"text\": \"woc447万硬币\", \"items\": [{\"positive_prob\": 0.130032, \"confidence\": 0.71104, \"negative_prob\": 0.869968, \"sentiment\": 0}]}\n",
      "{\"log_id\": 5869520587586144020, \"text\": \"加油\", \"items\": [{\"positive_prob\": 0.999899, \"confidence\": 0.999776, \"negative_prob\": 0.000100602, \"sentiment\": 2}]}\n",
      "{\"log_id\": 5247521908702139764, \"text\": \"加油，up\", \"items\": [{\"positive_prob\": 0.99998, \"confidence\": 0.999956, \"negative_prob\": 1.9933e-05, \"sentiment\": 2}]}\n",
      "{\"log_id\": 6379343415263937300, \"text\": \"粉丝\", \"items\": [{\"positive_prob\": 0.997982, \"confidence\": 0.995515, \"negative_prob\": 0.00201815, \"sentiment\": 2}]}\n",
      "{\"log_id\": 938192324121507412, \"text\": \"加油\", \"items\": [{\"positive_prob\": 0.999899, \"confidence\": 0.999776, \"negative_prob\": 0.000100602, \"sentiment\": 2}]}\n",
      "{\"log_id\": 5712975915211937364, \"text\": \"新人up打气\", \"items\": [{\"positive_prob\": 0.940843, \"confidence\": 0.86854, \"negative_prob\": 0.0591572, \"sentiment\": 2}]}\n",
      "{\"log_id\": 4017783330622966036, \"text\": \"[热词系列_三连]\", \"items\": [{\"positive_prob\": 0.967184, \"confidence\": 0.927076, \"negative_prob\": 0.0328157, \"sentiment\": 2}]}\n",
      "{\"log_id\": 5295812645954421364, \"text\": \"666\", \"items\": [{\"positive_prob\": 0.516115, \"confidence\": 0.677708, \"negative_prob\": 0.483885, \"sentiment\": 1}]}\n",
      "{\"log_id\": 7455210452890477844, \"text\": \"字体举报。\", \"items\": [{\"positive_prob\": 0.00370281, \"confidence\": 0.991772, \"negative_prob\": 0.996297, \"sentiment\": 0}]}\n",
      "{\"log_id\": 5243363802341994420, \"text\": \"加油\", \"items\": [{\"positive_prob\": 0.999899, \"confidence\": 0.999776, \"negative_prob\": 0.000100602, \"sentiment\": 2}]}\n",
      "{\"log_id\": 982644711349721012, \"text\": \"比如说被papi酱。\", \"items\": [{\"positive_prob\": 0.218922, \"confidence\": 0.513506, \"negative_prob\": 0.781078, \"sentiment\": 0}]}\n",
      "{\"log_id\": 914936695673034036, \"text\": \"up主三观太棒了\", \"items\": [{\"positive_prob\": 0.992142, \"confidence\": 0.982538, \"negative_prob\": 0.00785803, \"sentiment\": 2}]}\n",
      "{\"log_id\": 6483886179815687188, \"text\": \"[嫌弃]\", \"items\": [{\"positive_prob\": 0.0894182, \"confidence\": 0.801293, \"negative_prob\": 0.910582, \"sentiment\": 0}]}\n",
      "{\"log_id\": 3188928161401053556, \"text\": \"C4招待\", \"items\": [{\"positive_prob\": 0.98392, \"confidence\": 0.964267, \"negative_prob\": 0.0160798, \"sentiment\": 2}]}\n",
      "{\"log_id\": 1905007506814621172, \"text\": \"打卡支持！\", \"items\": [{\"positive_prob\": 0.999853, \"confidence\": 0.999674, \"negative_prob\": 0.00014682, \"sentiment\": 2}]}\n",
      "{\"log_id\": 9069682234318535476, \"text\": \"支持支持\", \"items\": [{\"positive_prob\": 0.999968, \"confidence\": 0.999928, \"negative_prob\": 3.2509e-05, \"sentiment\": 2}]}\n",
      "{\"log_id\": 1252791687176754068, \"text\": \"零粉up猪前来助攻[doge]\", \"items\": [{\"positive_prob\": 0.919424, \"confidence\": 0.820942, \"negative_prob\": 0.0805761, \"sentiment\": 2}]}\n",
      "{\"log_id\": 7081584474188707636, \"text\": \"没问题的。\", \"items\": [{\"positive_prob\": 0.979755, \"confidence\": 0.955012, \"negative_prob\": 0.0202446, \"sentiment\": 2}]}\n",
      "{\"log_id\": 6129886050659712276, \"text\": \"现在2020年，竟然还有没良心的公司在抢注商标，而且这一次是抢注的火神山医院和雷神山医院的商标，我就只想问你们的良心到哪里去了？本来以为敬汉卿事件过后这些公司会望而止步，结果万万没想到竟然还变本加厉！发国难财、侵犯他人的合法权益真的有意思吗？你们不为此而耻辱吗？\", \"items\": [{\"positive_prob\": 5.79142e-06, \"confidence\": 0.999987, \"negative_prob\": 0.999994, \"sentiment\": 0}]}\n",
      "{\"log_id\": 8256817789412804212, \"text\": \"这个为什么会成每周必看啊\", \"items\": [{\"positive_prob\": 0.943864, \"confidence\": 0.875252, \"negative_prob\": 0.0561364, \"sentiment\": 2}]}\n",
      "{\"log_id\": 6123107822751958196, \"text\": \"这个视频有很多过万的up主评论 虽然我不知道抢注是什么意思 但看着挺生气的\", \"items\": [{\"positive_prob\": 0.00595635, \"confidence\": 0.986764, \"negative_prob\": 0.994044, \"sentiment\": 0}]}\n",
      "{\"log_id\": 5008608983926439860, \"text\": \"加油！惩治不法分子\", \"items\": [{\"positive_prob\": 0.997643, \"confidence\": 0.994762, \"negative_prob\": 0.00235729, \"sentiment\": 2}]}\n",
      "{\"log_id\": 9041389934798845236, \"text\": \"敬汉卿我喜欢你三年了，支持你加油！\", \"items\": [{\"positive_prob\": 0.999982, \"confidence\": 0.999959, \"negative_prob\": 1.83841e-05, \"sentiment\": 2}]}\n",
      "{\"log_id\": 2472946454146324116, \"text\": \"[热词系列_知识增加]\", \"items\": [{\"positive_prob\": 0.988201, \"confidence\": 0.973779, \"negative_prob\": 0.0117992, \"sentiment\": 2}]}\n",
      "{\"log_id\": 8468433308828247700, \"text\": \"无奈我没有币了。。。_x1f612_\", \"items\": [{\"positive_prob\": 0.00998067, \"confidence\": 0.977821, \"negative_prob\": 0.990019, \"sentiment\": 0}]}\n",
      "{\"log_id\": 2164992888975406004, \"text\": \"两千万观看了！\", \"items\": [{\"positive_prob\": 0.932273, \"confidence\": 0.849495, \"negative_prob\": 0.0677274, \"sentiment\": 2}]}\n",
      "{\"log_id\": 6771966693319372884, \"text\": \"av90061118\", \"items\": [{\"positive_prob\": 0.850495, \"confidence\": 0.667767, \"negative_prob\": 0.149505, \"sentiment\": 2}]}\n",
      "{\"log_id\": 6971006562897406356, \"text\": \"加油！奥利给！！！\", \"items\": [{\"positive_prob\": 0.999668, \"confidence\": 0.999263, \"negative_prob\": 0.00033176, \"sentiment\": 2}]}\n",
      "{\"log_id\": 3254733962154152308, \"text\": \"1997年4月24曰（敬汉卿生日）\", \"items\": [{\"positive_prob\": 0.984953, \"confidence\": 0.966563, \"negative_prob\": 0.0150467, \"sentiment\": 2}]}\n",
      "{\"log_id\": 6885082573852389044, \"text\": \"名字都要被抢，多惨一男的[无语]\", \"items\": [{\"positive_prob\": 0.000460442, \"confidence\": 0.998977, \"negative_prob\": 0.99954, \"sentiment\": 0}]}\n",
      "{\"log_id\": 1141043106494250964, \"text\": \"镇 站 之 宝[吃瓜]\", \"items\": [{\"positive_prob\": 0.922745, \"confidence\": 0.828321, \"negative_prob\": 0.0772553, \"sentiment\": 2}]}\n"
     ]
    },
    {
     "name": "stdout",
     "output_type": "stream",
     "text": [
      "{\"log_id\": 3318077385896027668, \"text\": \"加油加油加油\", \"items\": [{\"positive_prob\": 0.999991, \"confidence\": 0.99998, \"negative_prob\": 9.03799e-06, \"sentiment\": 2}]}\n",
      "{\"log_id\": 3118462856413481108, \"text\": \"！！\", \"items\": [{\"positive_prob\": 0.436752, \"confidence\": 0.0294407, \"negative_prob\": 0.563248, \"sentiment\": 0}]}\n"
     ]
    }
   ],
   "source": [
    "import pandas as pd\n",
    "import time\n",
    "df_pl_content = pd.read_csv('./data/BiliComment_contain20000.csv', sep='\\t')\n",
    "df_pl_content = df_pl_content.content.values.tolist()\n",
    "token = '24.8d9184644bfb4116e1504b01b920267f.2592000.1587266423.282335-18942611'\n",
    "url = 'https://aip.baidubce.com/rpc/2.0/nlp/v1/sentiment_classify?charset=UTF-8&access_token={}'.format(token)\n",
    "\n",
    "for i in df_pl_content[:100]:\n",
    "    data = {\n",
    "    'text':str(i)}  # 只使用百度api\n",
    "    data = json.dumps(data)\n",
    "    res = requests.post(url,data=data)\n",
    "    time.sleep(0.5)\n",
    "    print(res.text)"
   ]
  },
  {
   "cell_type": "code",
   "execution_count": null,
   "metadata": {},
   "outputs": [],
   "source": []
  }
 ],
 "metadata": {
  "kernelspec": {
   "display_name": "Python 3",
   "language": "python",
   "name": "python3"
  },
  "language_info": {
   "codemirror_mode": {
    "name": "ipython",
    "version": 3
   },
   "file_extension": ".py",
   "mimetype": "text/x-python",
   "name": "python",
   "nbconvert_exporter": "python",
   "pygments_lexer": "ipython3",
   "version": "3.6.4"
  }
 },
 "nbformat": 4,
 "nbformat_minor": 2
}
